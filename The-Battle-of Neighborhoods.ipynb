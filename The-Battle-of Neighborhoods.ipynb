{
    "cells": [
        {
            "cell_type": "markdown",
            "metadata": {
                "collapsed": true
            },
            "source": "# **Vi\u00f1a del Mar or Valpara\u00edso, Who has better rating food?**\n---\n### Introduction\n-------\nVi\u00f1a del Mar and Valpara\u00edso, are widely know chilean cities in the coast of the central region of the country. Both cities are neighbors and share a variety of gastromic option in the opinion of people. Lately, have been seeing lots of signature cuisine restaurants, burgeries, bar \\& pubs are opened, ofering a widely variety of alternative to taste different flavors.\nMaybe that perception is wrong and such variety don't exist, and perhaps we are full of same kind restaurants.\n\n\n#### Business Problem\n-------\nIn this report I'll analyze if really exist variety in gastronomic offer and if the perception that Valparaiso has better restaurants is true, information that will be use as an orientarion for visitors of this two chilean cities.\nAlso this report will be useful for gastronomic investor, as a guidence allow them to know how really is the gastronomic offer in both cities.\n\n##### Restrictions\n-------\nThis report is not absolute information in any case and has to be taken only as a guide, since analysis and mesurements will based on data from www.foursquare.com and perhaps many restaurants haven't been rating yet.\nThe postal code in Chile is manage by www.correos.cl (Postal Chilean Company), but they don't provide open access to this information wich is necesary  to have a better granularity of the data. Therefore, i'll use the oficial coordinates of both cities location (center of the cities) assuming that in a radio of 3 km is possible to find the major concentration of turistic POI, which is true until certain point."
        },
        {
            "cell_type": "markdown",
            "metadata": {},
            "source": "### Data Source\n-------\nThe data will be gather from foursquare api using the following coordinates:\n+ **Valparaiso**\n  * Latitude:  -34.045944  \n  * Longitude: -71.616361\n  \n+ **Vi\u00f1a del Mar**\n  * Latitude:  -33.0245\n  * Longitude: -71.5518 \n\n"
        },
        {
            "cell_type": "code",
            "execution_count": null,
            "metadata": {},
            "outputs": [],
            "source": ""
        }
    ],
    "metadata": {
        "kernelspec": {
            "display_name": "Python 3.6",
            "language": "python",
            "name": "python3"
        },
        "language_info": {
            "codemirror_mode": {
                "name": "ipython",
                "version": 3
            },
            "file_extension": ".py",
            "mimetype": "text/x-python",
            "name": "python",
            "nbconvert_exporter": "python",
            "pygments_lexer": "ipython3",
            "version": "3.6.9"
        }
    },
    "nbformat": 4,
    "nbformat_minor": 1
}