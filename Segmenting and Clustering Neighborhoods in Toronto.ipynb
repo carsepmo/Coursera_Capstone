{
    "cells": [
        {
            "cell_type": "markdown",
            "metadata": {
                "collapsed": true
            },
            "source": "# Segmenting and CLustering Neighborhoods in Toronto\n---\n### Applied Data Science Capstone project  - Week3\n#### Carlos Sep\u00falveda"
        },
        {
            "cell_type": "code",
            "execution_count": 1,
            "metadata": {},
            "outputs": [],
            "source": "# Libraries needed\nimport pandas as pd\nimport requests\nfrom bs4 import BeautifulSoup"
        },
        {
            "cell_type": "markdown",
            "metadata": {},
            "source": "<h6> Scrapping the web page"
        },
        {
            "cell_type": "code",
            "execution_count": 2,
            "metadata": {},
            "outputs": [],
            "source": "# webPage url\nurl = 'https://en.wikipedia.org/w/index.php?title=List_of_postal_codes_of_Canada:_M&oldid=942851379'\nwebPage = requests.get(url)"
        },
        {
            "cell_type": "code",
            "execution_count": 3,
            "metadata": {},
            "outputs": [],
            "source": "# Get soup with lxml parser\nsoup = BeautifulSoup(webPage.content, 'lxml')"
        },
        {
            "cell_type": "code",
            "execution_count": null,
            "metadata": {},
            "outputs": [],
            "source": "#find Table\ntable = soup.find_all('table')[0]\ntable"
        },
        {
            "cell_type": "markdown",
            "metadata": {},
            "source": "<h6> Beautifull soup to Pandas DF"
        },
        {
            "cell_type": "code",
            "execution_count": null,
            "metadata": {},
            "outputs": [],
            "source": "# DataFrame columns name\ndf_col_names = ['Postalcode', 'Borough', 'Neighborhood']\ndf = pd.DataFrame(columns = df_col_names)\ndf"
        },
        {
            "cell_type": "code",
            "execution_count": null,
            "metadata": {},
            "outputs": [],
            "source": "# Perform seacrh of all data needed in the table\nfor tr_marker in table.find_all('tr'):\n    row_data=[]\n    for td_marker in tr_marker.find_all('td'):\n        row_data.append(td_marker.text.strip())\n    if len(row_data)==3:\n        df.loc[len(df)] = row_data\n\ndf.head()"
        },
        {
            "cell_type": "markdown",
            "metadata": {},
            "source": "<h5> Cleaning data"
        },
        {
            "cell_type": "markdown",
            "metadata": {},
            "source": "Only process the cells that have an assigned borough. Ignore cells with a borough that is Not assigned."
        },
        {
            "cell_type": "code",
            "execution_count": null,
            "metadata": {},
            "outputs": [],
            "source": "# we ignore cells with a borough that is Not Assigned\ndf_clean = df[df['Borough']!= 'Not assigned']\ndf_clean.head()"
        },
        {
            "cell_type": "markdown",
            "metadata": {},
            "source": "If a cell has a borough but a Not assigned neighborhood, then the neighborhood will be the same as the borough."
        },
        {
            "cell_type": "code",
            "execution_count": null,
            "metadata": {},
            "outputs": [],
            "source": "# If a cell has a borough but a Not Assigned neighborhood, \n# then the neighborhood will be the same as borough\ndf_clean.loc[df_clean['Neighborhood']=='Not assigned','Neighborhood']=df_clean['Borough']\ndf_clean"
        },
        {
            "cell_type": "markdown",
            "metadata": {},
            "source": "More than one neighborhood can exist in one postal code area. For example, in the table on the Wikipedia page, you will notice that M5A is listed twice and has two neighborhoods: Harbourfront and Regent Park. These two rows will be combined into one row with the neighborhoods separated with a comma as shown in row 11 in the above table"
        },
        {
            "cell_type": "code",
            "execution_count": null,
            "metadata": {},
            "outputs": [],
            "source": "# rows with the same postalcode will be combined into one row with the neighborhoods\n# separated with comma\n\ndf_grouped = df_clean.groupby(['Postalcode','Borough'], sort = False).agg(', '.join)\ndf_grouped.reset_index(inplace = True)\ndf_grouped.head(30)"
        },
        {
            "cell_type": "markdown",
            "metadata": {},
            "source": "in the last cell of your notebook use the **.shape** method to print the numbers of rows of th dataframe"
        },
        {
            "cell_type": "code",
            "execution_count": null,
            "metadata": {},
            "outputs": [],
            "source": "df_grouped.shape"
        },
        {
            "cell_type": "code",
            "execution_count": null,
            "metadata": {},
            "outputs": [],
            "source": ""
        }
    ],
    "metadata": {
        "kernelspec": {
            "display_name": "Python 3.6",
            "language": "python",
            "name": "python3"
        },
        "language_info": {
            "codemirror_mode": {
                "name": "ipython",
                "version": 3
            },
            "file_extension": ".py",
            "mimetype": "text/x-python",
            "name": "python",
            "nbconvert_exporter": "python",
            "pygments_lexer": "ipython3",
            "version": "3.6.9"
        }
    },
    "nbformat": 4,
    "nbformat_minor": 1
}